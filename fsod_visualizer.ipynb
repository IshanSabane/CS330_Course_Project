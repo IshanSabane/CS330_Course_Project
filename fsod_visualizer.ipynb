{
 "cells": [
  {
   "cell_type": "code",
   "execution_count": 1,
   "metadata": {},
   "outputs": [],
   "source": [
    "import json \n",
    "from fsod import FSODDataset, FSODSampler\n"
   ]
  },
  {
   "cell_type": "code",
   "execution_count": null,
   "metadata": {},
   "outputs": [],
   "source": [
    "\n",
    "f = open('./datasets/fsod/annotations/fsod_train.json', 'r')\n",
    "meta_train = json.load(f)\n",
    "print(meta_train.keys())\n",
    "images, img_types, annotations, categories = meta_train.values()\n",
    "for i in range(5):\n",
    "    print(images[0])\n",
    "    print(img_types[0])\n",
    "    print(annotations[0])\n",
    "    print(categories[0])\n",
    "\n",
    "\n",
    "supercats = set()\n",
    "id2label = {}\n",
    "for cat in categories: \n",
    "    supercats.add(cat['supercategory'])\n",
    "    \n",
    "    id2label[cat['id']] = cat['name']\n",
    "\n",
    "print(len(list(supercats)), len(id2label.keys()))\n",
    "\n",
    "\n",
    "#TODO: Complete the data loader for this dataset\n",
    "\n",
    "# dataset = FSODDataset(num_support=20, num_query= 10)\n",
    "# sampler = FSODSampler(split_idxs='train')"
   ]
  }
 ],
 "metadata": {
  "kernelspec": {
   "display_name": "CS330_CUDA",
   "language": "python",
   "name": "python3"
  },
  "language_info": {
   "codemirror_mode": {
    "name": "ipython",
    "version": 3
   },
   "file_extension": ".py",
   "mimetype": "text/x-python",
   "name": "python",
   "nbconvert_exporter": "python",
   "pygments_lexer": "ipython3",
   "version": "3.9.18"
  }
 },
 "nbformat": 4,
 "nbformat_minor": 2
}
